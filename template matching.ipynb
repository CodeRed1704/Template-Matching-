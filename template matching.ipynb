{
 "cells": [
  {
   "cell_type": "code",
   "execution_count": 2,
   "metadata": {},
   "outputs": [],
   "source": [
    "# importing libraries\n",
    "\n",
    "import numpy as np\n",
    "import cv2"
   ]
  },
  {
   "cell_type": "code",
   "execution_count": 3,
   "metadata": {},
   "outputs": [],
   "source": [
    "# loading image\n",
    "\n",
    "image = cv2.imread('WhatsApp Image 2018-12-12 at 5.57.51 PM (1).jpeg', 0)\n",
    "template1 = cv2.imread('Fig1.png', 0)\n",
    "template2 = cv2.imread('Fig2.png', 0)\n",
    "template3 = cv2.imread('Fig3.png', 0)\n",
    "template4 = cv2.imread('Fig4.png', 0)\n",
    "template5 = cv2.imread('Fig5.png', 0)\n",
    "template6 = cv2.imread('Fig6.png', 0)\n",
    "template7 = cv2.imread('Fig7.png', 0)"
   ]
  },
  {
   "cell_type": "code",
   "execution_count": 4,
   "metadata": {},
   "outputs": [],
   "source": [
    "# template matching\n",
    "\n",
    "result1 = cv2.matchTemplate(image, template1, cv2.TM_SQDIFF)\n",
    "result2 = cv2.matchTemplate(image, template2, cv2.TM_SQDIFF)\n",
    "result3 = cv2.matchTemplate(image, template3, cv2.TM_SQDIFF)\n",
    "result4 = cv2.matchTemplate(image, template4, cv2.TM_SQDIFF)\n",
    "result5 = cv2.matchTemplate(image, template5, cv2.TM_SQDIFF)\n",
    "result6 = cv2.matchTemplate(image, template6, cv2.TM_SQDIFF)\n",
    "result7 = cv2.matchTemplate(image, template7, cv2.TM_SQDIFF)"
   ]
  },
  {
   "cell_type": "code",
   "execution_count": 5,
   "metadata": {},
   "outputs": [],
   "source": [
    "# finding the axes\n",
    "\n",
    "min_val1, max_val1, min_loc1, max_loc1 = cv2.minMaxLoc(result1)\n",
    "min_val2, max_val2, min_loc2, max_loc2 = cv2.minMaxLoc(result2)\n",
    "min_val3, max_val3, min_loc3, max_loc3 = cv2.minMaxLoc(result3)\n",
    "min_val4, max_val4, min_loc4, max_loc4 = cv2.minMaxLoc(result4)\n",
    "min_val5, max_val5, min_loc5, max_loc5 = cv2.minMaxLoc(result5)\n",
    "min_val6, max_val6, min_loc6, max_loc6 = cv2.minMaxLoc(result6)\n",
    "min_val7, max_val7, min_loc7, max_loc7 = cv2.minMaxLoc(result7)\n"
   ]
  },
  {
   "cell_type": "code",
   "execution_count": 6,
   "metadata": {},
   "outputs": [],
   "source": [
    "# Drawing the image\n",
    "\n",
    "top_left1 = min_loc1\n",
    "bottom_right1 = (top_left1[0] + 100, top_left1[1] + 100)\n",
    "\n",
    "top_left2 = min_loc2\n",
    "bottom_right2 = (top_left2[0] + 100, top_left2[1] + 100)\n",
    "\n",
    "top_left3 = min_loc3\n",
    "bottom_right3 = (top_left3[0] + 100, top_left3[1] + 100)\n",
    "\n",
    "top_left4 = min_loc4\n",
    "bottom_right4 = (top_left4[0] + 100, top_left4[1] + 100)\n",
    "\n",
    "top_left5 = min_loc5\n",
    "bottom_right5 = (top_left5[0] + 100, top_left5[1] + 100)\n",
    "\n",
    "top_left6 = min_loc6\n",
    "bottom_right6 = (top_left6[0] + 100, top_left6[1] + 100)\n",
    "\n",
    "top_left7 = min_loc7\n",
    "bottom_right7 = (top_left7[0] + 100, top_left7[1] + 150)"
   ]
  },
  {
   "cell_type": "code",
   "execution_count": 7,
   "metadata": {},
   "outputs": [
    {
     "data": {
      "text/plain": [
       "array([[117, 117, 118, ...,  77,  77,  78],\n",
       "       [117, 117, 118, ...,  77,  71,  68],\n",
       "       [117, 117, 118, ...,  78,  67,  59],\n",
       "       ...,\n",
       "       [ 72,  76,  80, ...,  40,  42,  43],\n",
       "       [ 72,  76,  80, ...,  37,  38,  39],\n",
       "       [ 77,  80,  82, ...,  34,  34,  35]], dtype=uint8)"
      ]
     },
     "execution_count": 7,
     "metadata": {},
     "output_type": "execute_result"
    }
   ],
   "source": [
    "cv2.rectangle(image, top_left1, bottom_right1, (0,255,0), 3)\n",
    "cv2.rectangle(image, top_left2, bottom_right2, (0,255,0), 3)\n",
    "cv2.rectangle(image, top_left3, bottom_right3, (0,255,0), 3)\n",
    "cv2.rectangle(image, top_left4, bottom_right4, (0,255,0), 3)\n",
    "cv2.rectangle(image, top_left5, bottom_right5, (0,255,0), 3)\n",
    "cv2.rectangle(image, top_left6, bottom_right6, (0,255,0), 3)\n",
    "cv2.rectangle(image, top_left7, bottom_right7, (0,255,0), 3)"
   ]
  },
  {
   "cell_type": "code",
   "execution_count": 8,
   "metadata": {},
   "outputs": [],
   "source": [
    "cv2.imshow('Figure', image)\n",
    "cv2.waitKey(0)\n",
    "cv2.destroyAllWindows()"
   ]
  },
  {
   "cell_type": "code",
   "execution_count": null,
   "metadata": {},
   "outputs": [],
   "source": []
  }
 ],
 "metadata": {
  "kernelspec": {
   "display_name": "Python 3",
   "language": "python",
   "name": "python3"
  },
  "language_info": {
   "codemirror_mode": {
    "name": "ipython",
    "version": 3
   },
   "file_extension": ".py",
   "mimetype": "text/x-python",
   "name": "python",
   "nbconvert_exporter": "python",
   "pygments_lexer": "ipython3",
   "version": "3.6.5"
  }
 },
 "nbformat": 4,
 "nbformat_minor": 2
}
